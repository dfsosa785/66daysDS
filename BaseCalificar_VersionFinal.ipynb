{
 "cells": [
  {
   "cell_type": "code",
   "execution_count": 1,
   "metadata": {},
   "outputs": [],
   "source": [
    "#conexión odbc, pandas y numpy\n",
    "#%%\n",
    "import pandas as pd\n",
    "import pyodbc\n",
    "import numpy as np\n",
    "import os\n",
    "import sys\n",
    "import pickle\n",
    "conn = pyodbc.connect( \"DSN=impala-prod\", autocommit = True)"
   ]
  },
  {
   "cell_type": "code",
   "execution_count": 3,
   "metadata": {},
   "outputs": [],
   "source": [
    "#carga librerias python \n",
    "#import librerias necesarias \n",
    "from sklearn import preprocessing as prep\n",
    "import pandas as pd\n",
    "import numpy as np\n",
    "from sklearn.model_selection import train_test_split\n",
    "from sklearn.model_selection import GridSearchCV\n",
    "from sklearn.metrics import mean_absolute_error,explained_variance_score\n",
    "from sklearn.metrics import roc_auc_score, confusion_matrix, silhouette_score,silhouette_samples\n",
    "import matplotlib.pyplot as plt\n",
    "from sklearn import cluster\n",
    "from sklearn.neighbors import kneighbors_graph\n",
    "from sklearn.decomposition import PCA\n",
    "import seaborn as sns\n",
    "from sklearn.metrics import roc_curve, auc\n",
    "from sklearn.pipeline import Pipeline\n",
    "from sklearn.cluster import KMeans\n",
    "from sklearn.ensemble import RandomForestRegressor\n",
    "from sklearn.model_selection import RandomizedSearchCV\n",
    "from sklearn.metrics import precision_recall_curve\n",
    "from sklearn.calibration import calibration_curve\n",
    "from matplotlib import pyplot\n",
    "from sklearn.metrics import average_precision_score, auc, roc_curve, precision_recall_curve\n",
    "from sklearn.calibration import CalibratedClassifierCV\n",
    "from sklearn.preprocessing     import StandardScaler, MinMaxScaler\n",
    "from sklearn.decomposition import PCA\n",
    "from sklearn import preprocessing\n",
    "from sklearn.preprocessing import StandardScaler\n",
    "from pprint import pprint"
   ]
  },
  {
   "cell_type": "code",
   "execution_count": 4,
   "metadata": {},
   "outputs": [],
   "source": [
    "df = pd.read_csv(\"D:/REENTRENAMIENTO/Reent_version1/banistmo_calificada_comport_temp_.csv\",header = 0, sep = ',')"
   ]
  },
  {
   "cell_type": "code",
   "execution_count": 9,
   "metadata": {},
   "outputs": [],
   "source": [
    "df1 = pd.read_csv(\"D:/REENTRENAMIENTO/Reent_version1/banistmo_calificada_comport_temp_zr_1.csv\",header = 0, sep = ',')"
   ]
  },
  {
   "cell_type": "code",
   "execution_count": 15,
   "metadata": {},
   "outputs": [],
   "source": [
    "df2 = pd.read_csv(\"D:/REENTRENAMIENTO/Reent_version1/base_hist_banistmo_calificada_final_regla_auc_201709.csv\",header = 0, sep = ',')"
   ]
  },
  {
   "cell_type": "code",
   "execution_count": 16,
   "metadata": {},
   "outputs": [
    {
     "data": {
      "text/html": [
       "<div>\n",
       "<style scoped>\n",
       "    .dataframe tbody tr th:only-of-type {\n",
       "        vertical-align: middle;\n",
       "    }\n",
       "\n",
       "    .dataframe tbody tr th {\n",
       "        vertical-align: top;\n",
       "    }\n",
       "\n",
       "    .dataframe thead th {\n",
       "        text-align: right;\n",
       "    }\n",
       "</style>\n",
       "<table border=\"1\" class=\"dataframe\">\n",
       "  <thead>\n",
       "    <tr style=\"text-align: right;\">\n",
       "      <th></th>\n",
       "      <th>id</th>\n",
       "      <th>fa</th>\n",
       "      <th>prediction</th>\n",
       "      <th>escala_riesgo_final</th>\n",
       "      <th>flag_regla</th>\n",
       "      <th>default_90_12m</th>\n",
       "    </tr>\n",
       "  </thead>\n",
       "  <tbody>\n",
       "    <tr>\n",
       "      <th>0</th>\n",
       "      <td>98648240</td>\n",
       "      <td>201709</td>\n",
       "      <td>0.016296</td>\n",
       "      <td>G2</td>\n",
       "      <td>0</td>\n",
       "      <td>0</td>\n",
       "    </tr>\n",
       "    <tr>\n",
       "      <th>1</th>\n",
       "      <td>565644</td>\n",
       "      <td>201709</td>\n",
       "      <td>0.094554</td>\n",
       "      <td>G6</td>\n",
       "      <td>0</td>\n",
       "      <td>0</td>\n",
       "    </tr>\n",
       "    <tr>\n",
       "      <th>2</th>\n",
       "      <td>42414</td>\n",
       "      <td>201709</td>\n",
       "      <td>0.063838</td>\n",
       "      <td>G5</td>\n",
       "      <td>0</td>\n",
       "      <td>0</td>\n",
       "    </tr>\n",
       "    <tr>\n",
       "      <th>3</th>\n",
       "      <td>98679159</td>\n",
       "      <td>201709</td>\n",
       "      <td>0.046043</td>\n",
       "      <td>G5</td>\n",
       "      <td>0</td>\n",
       "      <td>0</td>\n",
       "    </tr>\n",
       "    <tr>\n",
       "      <th>4</th>\n",
       "      <td>98663231</td>\n",
       "      <td>201709</td>\n",
       "      <td>0.020033</td>\n",
       "      <td>G3</td>\n",
       "      <td>0</td>\n",
       "      <td>0</td>\n",
       "    </tr>\n",
       "  </tbody>\n",
       "</table>\n",
       "</div>"
      ],
      "text/plain": [
       "         id      fa  prediction escala_riesgo_final  flag_regla  \\\n",
       "0  98648240  201709    0.016296                  G2           0   \n",
       "1    565644  201709    0.094554                  G6           0   \n",
       "2     42414  201709    0.063838                  G5           0   \n",
       "3  98679159  201709    0.046043                  G5           0   \n",
       "4  98663231  201709    0.020033                  G3           0   \n",
       "\n",
       "   default_90_12m  \n",
       "0               0  \n",
       "1               0  \n",
       "2               0  \n",
       "3               0  \n",
       "4               0  "
      ]
     },
     "execution_count": 16,
     "metadata": {},
     "output_type": "execute_result"
    }
   ],
   "source": [
    "df2.head()"
   ]
  },
  {
   "cell_type": "code",
   "execution_count": 3,
   "metadata": {},
   "outputs": [
    {
     "ename": "KeyboardInterrupt",
     "evalue": "",
     "output_type": "error",
     "traceback": [
      "\u001b[1;31m---------------------------------------------------------------------------\u001b[0m",
      "\u001b[1;31mKeyboardInterrupt\u001b[0m                         Traceback (most recent call last)",
      "\u001b[1;32m<ipython-input-3-5614bc2a3d6b>\u001b[0m in \u001b[0;36m<module>\u001b[1;34m()\u001b[0m\n\u001b[1;32m----> 1\u001b[1;33m \u001b[0mdf\u001b[0m \u001b[1;33m=\u001b[0m \u001b[0mpd\u001b[0m\u001b[1;33m.\u001b[0m\u001b[0mread_csv\u001b[0m\u001b[1;33m(\u001b[0m\u001b[1;34m\"D:/REENTRENAMIENTO/Reent_version1/base_entrenamiento_escenario_avg_completa_nv.csv\"\u001b[0m\u001b[1;33m,\u001b[0m\u001b[0mheader\u001b[0m \u001b[1;33m=\u001b[0m \u001b[1;36m0\u001b[0m\u001b[1;33m,\u001b[0m \u001b[0msep\u001b[0m \u001b[1;33m=\u001b[0m \u001b[1;34m','\u001b[0m\u001b[1;33m)\u001b[0m\u001b[1;33m\u001b[0m\u001b[0m\n\u001b[0m",
      "\u001b[1;32m~\\AppData\\Local\\Continuum\\anaconda31\\lib\\site-packages\\pandas\\io\\parsers.py\u001b[0m in \u001b[0;36mparser_f\u001b[1;34m(filepath_or_buffer, sep, delimiter, header, names, index_col, usecols, squeeze, prefix, mangle_dupe_cols, dtype, engine, converters, true_values, false_values, skipinitialspace, skiprows, nrows, na_values, keep_default_na, na_filter, verbose, skip_blank_lines, parse_dates, infer_datetime_format, keep_date_col, date_parser, dayfirst, iterator, chunksize, compression, thousands, decimal, lineterminator, quotechar, quoting, escapechar, comment, encoding, dialect, tupleize_cols, error_bad_lines, warn_bad_lines, skipfooter, skip_footer, doublequote, delim_whitespace, as_recarray, compact_ints, use_unsigned, low_memory, buffer_lines, memory_map, float_precision)\u001b[0m\n\u001b[0;32m    707\u001b[0m                     skip_blank_lines=skip_blank_lines)\n\u001b[0;32m    708\u001b[0m \u001b[1;33m\u001b[0m\u001b[0m\n\u001b[1;32m--> 709\u001b[1;33m         \u001b[1;32mreturn\u001b[0m \u001b[0m_read\u001b[0m\u001b[1;33m(\u001b[0m\u001b[0mfilepath_or_buffer\u001b[0m\u001b[1;33m,\u001b[0m \u001b[0mkwds\u001b[0m\u001b[1;33m)\u001b[0m\u001b[1;33m\u001b[0m\u001b[0m\n\u001b[0m\u001b[0;32m    710\u001b[0m \u001b[1;33m\u001b[0m\u001b[0m\n\u001b[0;32m    711\u001b[0m     \u001b[0mparser_f\u001b[0m\u001b[1;33m.\u001b[0m\u001b[0m__name__\u001b[0m \u001b[1;33m=\u001b[0m \u001b[0mname\u001b[0m\u001b[1;33m\u001b[0m\u001b[0m\n",
      "\u001b[1;32m~\\AppData\\Local\\Continuum\\anaconda31\\lib\\site-packages\\pandas\\io\\parsers.py\u001b[0m in \u001b[0;36m_read\u001b[1;34m(filepath_or_buffer, kwds)\u001b[0m\n\u001b[0;32m    453\u001b[0m \u001b[1;33m\u001b[0m\u001b[0m\n\u001b[0;32m    454\u001b[0m     \u001b[1;32mtry\u001b[0m\u001b[1;33m:\u001b[0m\u001b[1;33m\u001b[0m\u001b[0m\n\u001b[1;32m--> 455\u001b[1;33m         \u001b[0mdata\u001b[0m \u001b[1;33m=\u001b[0m \u001b[0mparser\u001b[0m\u001b[1;33m.\u001b[0m\u001b[0mread\u001b[0m\u001b[1;33m(\u001b[0m\u001b[0mnrows\u001b[0m\u001b[1;33m)\u001b[0m\u001b[1;33m\u001b[0m\u001b[0m\n\u001b[0m\u001b[0;32m    456\u001b[0m     \u001b[1;32mfinally\u001b[0m\u001b[1;33m:\u001b[0m\u001b[1;33m\u001b[0m\u001b[0m\n\u001b[0;32m    457\u001b[0m         \u001b[0mparser\u001b[0m\u001b[1;33m.\u001b[0m\u001b[0mclose\u001b[0m\u001b[1;33m(\u001b[0m\u001b[1;33m)\u001b[0m\u001b[1;33m\u001b[0m\u001b[0m\n",
      "\u001b[1;32m~\\AppData\\Local\\Continuum\\anaconda31\\lib\\site-packages\\pandas\\io\\parsers.py\u001b[0m in \u001b[0;36mread\u001b[1;34m(self, nrows)\u001b[0m\n\u001b[0;32m   1067\u001b[0m                 \u001b[1;32mraise\u001b[0m \u001b[0mValueError\u001b[0m\u001b[1;33m(\u001b[0m\u001b[1;34m'skipfooter not supported for iteration'\u001b[0m\u001b[1;33m)\u001b[0m\u001b[1;33m\u001b[0m\u001b[0m\n\u001b[0;32m   1068\u001b[0m \u001b[1;33m\u001b[0m\u001b[0m\n\u001b[1;32m-> 1069\u001b[1;33m         \u001b[0mret\u001b[0m \u001b[1;33m=\u001b[0m \u001b[0mself\u001b[0m\u001b[1;33m.\u001b[0m\u001b[0m_engine\u001b[0m\u001b[1;33m.\u001b[0m\u001b[0mread\u001b[0m\u001b[1;33m(\u001b[0m\u001b[0mnrows\u001b[0m\u001b[1;33m)\u001b[0m\u001b[1;33m\u001b[0m\u001b[0m\n\u001b[0m\u001b[0;32m   1070\u001b[0m \u001b[1;33m\u001b[0m\u001b[0m\n\u001b[0;32m   1071\u001b[0m         \u001b[1;32mif\u001b[0m \u001b[0mself\u001b[0m\u001b[1;33m.\u001b[0m\u001b[0moptions\u001b[0m\u001b[1;33m.\u001b[0m\u001b[0mget\u001b[0m\u001b[1;33m(\u001b[0m\u001b[1;34m'as_recarray'\u001b[0m\u001b[1;33m)\u001b[0m\u001b[1;33m:\u001b[0m\u001b[1;33m\u001b[0m\u001b[0m\n",
      "\u001b[1;32m~\\AppData\\Local\\Continuum\\anaconda31\\lib\\site-packages\\pandas\\io\\parsers.py\u001b[0m in \u001b[0;36mread\u001b[1;34m(self, nrows)\u001b[0m\n\u001b[0;32m   1837\u001b[0m     \u001b[1;32mdef\u001b[0m \u001b[0mread\u001b[0m\u001b[1;33m(\u001b[0m\u001b[0mself\u001b[0m\u001b[1;33m,\u001b[0m \u001b[0mnrows\u001b[0m\u001b[1;33m=\u001b[0m\u001b[1;32mNone\u001b[0m\u001b[1;33m)\u001b[0m\u001b[1;33m:\u001b[0m\u001b[1;33m\u001b[0m\u001b[0m\n\u001b[0;32m   1838\u001b[0m         \u001b[1;32mtry\u001b[0m\u001b[1;33m:\u001b[0m\u001b[1;33m\u001b[0m\u001b[0m\n\u001b[1;32m-> 1839\u001b[1;33m             \u001b[0mdata\u001b[0m \u001b[1;33m=\u001b[0m \u001b[0mself\u001b[0m\u001b[1;33m.\u001b[0m\u001b[0m_reader\u001b[0m\u001b[1;33m.\u001b[0m\u001b[0mread\u001b[0m\u001b[1;33m(\u001b[0m\u001b[0mnrows\u001b[0m\u001b[1;33m)\u001b[0m\u001b[1;33m\u001b[0m\u001b[0m\n\u001b[0m\u001b[0;32m   1840\u001b[0m         \u001b[1;32mexcept\u001b[0m \u001b[0mStopIteration\u001b[0m\u001b[1;33m:\u001b[0m\u001b[1;33m\u001b[0m\u001b[0m\n\u001b[0;32m   1841\u001b[0m             \u001b[1;32mif\u001b[0m \u001b[0mself\u001b[0m\u001b[1;33m.\u001b[0m\u001b[0m_first_chunk\u001b[0m\u001b[1;33m:\u001b[0m\u001b[1;33m\u001b[0m\u001b[0m\n",
      "\u001b[1;32mpandas/_libs/parsers.pyx\u001b[0m in \u001b[0;36mpandas._libs.parsers.TextReader.read\u001b[1;34m()\u001b[0m\n",
      "\u001b[1;32mpandas/_libs/parsers.pyx\u001b[0m in \u001b[0;36mpandas._libs.parsers.TextReader._read_low_memory\u001b[1;34m()\u001b[0m\n",
      "\u001b[1;32mpandas/_libs/parsers.pyx\u001b[0m in \u001b[0;36mpandas._libs.parsers.TextReader._read_rows\u001b[1;34m()\u001b[0m\n",
      "\u001b[1;32mpandas/_libs/parsers.pyx\u001b[0m in \u001b[0;36mpandas._libs.parsers.TextReader._convert_column_data\u001b[1;34m()\u001b[0m\n",
      "\u001b[1;32mpandas/_libs/parsers.pyx\u001b[0m in \u001b[0;36mpandas._libs.parsers.TextReader._convert_tokens\u001b[1;34m()\u001b[0m\n",
      "\u001b[1;32mpandas/_libs/parsers.pyx\u001b[0m in \u001b[0;36mpandas._libs.parsers.TextReader._convert_with_dtype\u001b[1;34m()\u001b[0m\n",
      "\u001b[1;32m~\\AppData\\Local\\Continuum\\anaconda31\\lib\\site-packages\\pandas\\core\\dtypes\\common.py\u001b[0m in \u001b[0;36mis_integer_dtype\u001b[1;34m(arr_or_dtype)\u001b[0m\n\u001b[0;32m    775\u001b[0m \u001b[1;33m\u001b[0m\u001b[0m\n\u001b[0;32m    776\u001b[0m \u001b[1;33m\u001b[0m\u001b[0m\n\u001b[1;32m--> 777\u001b[1;33m \u001b[1;32mdef\u001b[0m \u001b[0mis_integer_dtype\u001b[0m\u001b[1;33m(\u001b[0m\u001b[0marr_or_dtype\u001b[0m\u001b[1;33m)\u001b[0m\u001b[1;33m:\u001b[0m\u001b[1;33m\u001b[0m\u001b[0m\n\u001b[0m\u001b[0;32m    778\u001b[0m     \"\"\"\n\u001b[0;32m    779\u001b[0m     \u001b[0mCheck\u001b[0m \u001b[0mwhether\u001b[0m \u001b[0mthe\u001b[0m \u001b[0mprovided\u001b[0m \u001b[0marray\u001b[0m \u001b[1;32mor\u001b[0m \u001b[0mdtype\u001b[0m \u001b[1;32mis\u001b[0m \u001b[0mof\u001b[0m \u001b[0man\u001b[0m \u001b[0minteger\u001b[0m \u001b[0mdtype\u001b[0m\u001b[1;33m.\u001b[0m\u001b[1;33m\u001b[0m\u001b[0m\n",
      "\u001b[1;31mKeyboardInterrupt\u001b[0m: "
     ]
    }
   ],
   "source": [
    "df = pd.read_csv(\"D:/REENTRENAMIENTO/Reent_version1/base_entrenamiento_escenario_avg_completa_nv.csv\",header = 0, sep = ',')"
   ]
  },
  {
   "cell_type": "markdown",
   "metadata": {},
   "source": [
    "### base inicial, esta base a calificar contiene las variables seleccionadas en el entrenamiento del modelo"
   ]
  },
  {
   "cell_type": "code",
   "execution_count": 4,
   "metadata": {
    "scrolled": true
   },
   "outputs": [],
   "source": [
    "#llamada a la base con pull de variables\n",
    "df = pd.read_sql(\"\"\"select fecha,id,ddir_cliente,sob_cliente,deuda_actual_pp,deuda_actual_auto,atm_fa_cont,prom_atm_fa_3m,\n",
    "prom_atm_fa_6m,prom_atm_fa_12m,repr_ddir_cliente,mora_1_5,\n",
    "std_atm_fa_12m,std_atm_fa_3m,std_atm_fa_6m,prom_util_tdc_12m, std_util_tdc_12m,marca_huesped_pura, cnt_rodamientos_24m,\n",
    "cnt_ddir_cliente, cnt_sob_cliente, cnt_huesped_pura_cliente, mora_6_10, mora_11_15, mora_16_20, \n",
    "mora_21_25,mora_26_30, repr_rodamientos_24m, repr_sob_cliente,repr_huesped_pura_cliente, repr_mora_61_comp,\n",
    "mora_1_30_cat,prediction,saldok,default_90_12m\n",
    "from proceso_riesgos.sin_default_fa_reent_1_30_max_temp_all_vars_df where fecha>=201601\"\"\", conn)"
   ]
  },
  {
   "cell_type": "code",
   "execution_count": 6,
   "metadata": {},
   "outputs": [],
   "source": [
    "df_gs = df[['fecha','id','default_90_12m','prediction']]"
   ]
  },
  {
   "cell_type": "code",
   "execution_count": 7,
   "metadata": {},
   "outputs": [
    {
     "data": {
      "text/plain": [
       "(5045602, 4)"
      ]
     },
     "execution_count": 7,
     "metadata": {},
     "output_type": "execute_result"
    }
   ],
   "source": [
    "df_gs.shape"
   ]
  },
  {
   "cell_type": "code",
   "execution_count": null,
   "metadata": {},
   "outputs": [],
   "source": [
    "df_calificar.isna().sum() "
   ]
  },
  {
   "cell_type": "code",
   "execution_count": 4,
   "metadata": {},
   "outputs": [],
   "source": [
    "#features_ = df_calificar[['repr_ddir_cliente','deuda_actual_pp','deuda_actual_auto','prom_atm_fa_12m',\n",
    " #               'std_atm_fa_12m','prom_util_tdc_12m','std_util_tdc_12m','repr_huesped_pura_cliente',\n",
    "  #              'repr_rodamientos_24m','repr_mora_61_comp','prediction','atm_fa_cont']]"
   ]
  },
  {
   "cell_type": "code",
   "execution_count": null,
   "metadata": {},
   "outputs": [],
   "source": [
    "features_ = ['util_tdc_f0', 'prom_saldo_pp', 'cat_moras', 'deuda_actual_pp',\n",
    "       'saldok', 'prom_ult12', 'ln_atmfa', 'saldo_pp_final', 'pp_x_saldopp',\n",
    "       'sum_mora_ult12', 'prom_ult3', 'marca_rodamiento', 'prom_ult24',\n",
    "       'prom_saldo_tdc', 'sum_mora_ult24', 'cupo_tdc', 'sttdev_util_tdc_6m',\n",
    "       'util_tdc_fp6', 'saldo_tdc_final', 'nonull_ult24', 'sum_mora_ult6',\n",
    "       'prom_util_tdc_6m', 'prom_ult18',]"
   ]
  },
  {
   "cell_type": "code",
   "execution_count": null,
   "metadata": {},
   "outputs": [],
   "source": [
    "features_.isna().sum()"
   ]
  },
  {
   "cell_type": "code",
   "execution_count": 5,
   "metadata": {},
   "outputs": [],
   "source": [
    "##llamar modelo guardado\n",
    "pickle_file_C = open(\"D:\\modelo_premora_version_final_201501.sav\",\"rb\")"
   ]
  },
  {
   "cell_type": "code",
   "execution_count": 6,
   "metadata": {},
   "outputs": [],
   "source": [
    "modelC = pickle.load(pickle_file_C) "
   ]
  },
  {
   "cell_type": "code",
   "execution_count": 7,
   "metadata": {},
   "outputs": [
    {
     "data": {
      "text/plain": [
       "RandomForestClassifier(bootstrap=True, class_weight=None, criterion='gini',\n",
       "                       max_depth=13, max_features='auto', max_leaf_nodes=None,\n",
       "                       min_impurity_decrease=0.0, min_impurity_split=None,\n",
       "                       min_samples_leaf=15, min_samples_split=15,\n",
       "                       min_weight_fraction_leaf=0.0, n_estimators=94, n_jobs=-1,\n",
       "                       oob_score=False, random_state=4572, verbose=0,\n",
       "                       warm_start=False)"
      ]
     },
     "execution_count": 7,
     "metadata": {},
     "output_type": "execute_result"
    }
   ],
   "source": [
    "modelC"
   ]
  },
  {
   "cell_type": "markdown",
   "metadata": {},
   "source": [
    "### Calificación Base Completa"
   ]
  },
  {
   "cell_type": "code",
   "execution_count": null,
   "metadata": {},
   "outputs": [],
   "source": [
    "probs=modelC.predict_proba(df_calificar[features_])"
   ]
  },
  {
   "cell_type": "code",
   "execution_count": null,
   "metadata": {},
   "outputs": [],
   "source": [
    "probs"
   ]
  },
  {
   "cell_type": "code",
   "execution_count": null,
   "metadata": {},
   "outputs": [],
   "source": [
    "probs_default= [item[1] for item in probs]"
   ]
  },
  {
   "cell_type": "code",
   "execution_count": null,
   "metadata": {},
   "outputs": [],
   "source": [
    "df_calificar['probs_default']=probs_default"
   ]
  },
  {
   "cell_type": "code",
   "execution_count": null,
   "metadata": {},
   "outputs": [],
   "source": [
    "base_final1=df_calificar"
   ]
  },
  {
   "cell_type": "code",
   "execution_count": null,
   "metadata": {},
   "outputs": [],
   "source": [
    "base_final1.head()"
   ]
  },
  {
   "cell_type": "code",
   "execution_count": null,
   "metadata": {},
   "outputs": [],
   "source": [
    "#prediccion prom entrenamiento\n",
    "pred_train = base_final1[(base_final1.fecha>=201501) & (base_final1.fecha<=201706)]"
   ]
  },
  {
   "cell_type": "code",
   "execution_count": null,
   "metadata": {},
   "outputs": [],
   "source": [
    "pred_oos = base_final1[(base_final1.fecha>=201707) & (base_final1.fecha<=201710)]"
   ]
  },
  {
   "cell_type": "code",
   "execution_count": null,
   "metadata": {},
   "outputs": [],
   "source": [
    "#prom train y prom oos\n",
    "pred_train[\"probs_default\"].mean()"
   ]
  },
  {
   "cell_type": "code",
   "execution_count": null,
   "metadata": {},
   "outputs": [],
   "source": [
    "pred_oos[\"probs_default\"].mean()"
   ]
  },
  {
   "cell_type": "code",
   "execution_count": null,
   "metadata": {},
   "outputs": [],
   "source": [
    "base1 = base_final1[(base_final1.fecha>=201501) & (base_final1.fecha<=201706)]"
   ]
  },
  {
   "cell_type": "code",
   "execution_count": null,
   "metadata": {},
   "outputs": [],
   "source": [
    "base2 = base_final1[(base_final1.fecha>=201707) & (base_final1.fecha<=201710)]"
   ]
  },
  {
   "cell_type": "code",
   "execution_count": null,
   "metadata": {},
   "outputs": [],
   "source": [
    "x=base1['probs_default'].values\n",
    "y=base2['probs_default'].values"
   ]
  },
  {
   "cell_type": "code",
   "execution_count": null,
   "metadata": {},
   "outputs": [],
   "source": [
    "from scipy.stats import ks_2samp\n",
    "ks_2samp(x, y)"
   ]
  },
  {
   "cell_type": "code",
   "execution_count": null,
   "metadata": {},
   "outputs": [],
   "source": [
    "x1 = base1['probs_default']\n",
    "y1 = base2['probs_default']"
   ]
  },
  {
   "cell_type": "code",
   "execution_count": null,
   "metadata": {},
   "outputs": [],
   "source": [
    "base3 = pd.DataFrame({\n",
    "    'x': x1,\n",
    "    'y': y1,\n",
    "})"
   ]
  },
  {
   "cell_type": "code",
   "execution_count": null,
   "metadata": {},
   "outputs": [],
   "source": [
    "ax = base3.plot.kde()"
   ]
  },
  {
   "cell_type": "code",
   "execution_count": null,
   "metadata": {},
   "outputs": [],
   "source": [
    "###otro metodo para calificar"
   ]
  },
  {
   "cell_type": "code",
   "execution_count": 15,
   "metadata": {},
   "outputs": [],
   "source": [
    "base_calificada=modelC.predict_proba(features_)"
   ]
  },
  {
   "cell_type": "code",
   "execution_count": 16,
   "metadata": {},
   "outputs": [
    {
     "data": {
      "text/plain": [
       "array([[0.22853649, 0.77146351],\n",
       "       [0.95845233, 0.04154767],\n",
       "       [0.71252332, 0.28747668],\n",
       "       ...,\n",
       "       [0.11979641, 0.88020359],\n",
       "       [0.60935584, 0.39064416],\n",
       "       [0.51091159, 0.48908841]])"
      ]
     },
     "execution_count": 16,
     "metadata": {},
     "output_type": "execute_result"
    }
   ],
   "source": [
    "base_calificada"
   ]
  },
  {
   "cell_type": "code",
   "execution_count": 18,
   "metadata": {},
   "outputs": [],
   "source": [
    "#convierto prediccion en df para unir a base inicial\n",
    "dataset = pd.DataFrame({'prediction_uno': base_calificada[:,0]})"
   ]
  },
  {
   "cell_type": "code",
   "execution_count": 19,
   "metadata": {},
   "outputs": [],
   "source": [
    "base_final = df_calificar.join(dataset,how=\"outer\")"
   ]
  },
  {
   "cell_type": "code",
   "execution_count": 20,
   "metadata": {},
   "outputs": [],
   "source": [
    "base_final1 = pd.concat([df_calificar, dataset], axis=1)"
   ]
  },
  {
   "cell_type": "code",
   "execution_count": 21,
   "metadata": {},
   "outputs": [
    {
     "data": {
      "text/html": [
       "<div>\n",
       "<style scoped>\n",
       "    .dataframe tbody tr th:only-of-type {\n",
       "        vertical-align: middle;\n",
       "    }\n",
       "\n",
       "    .dataframe tbody tr th {\n",
       "        vertical-align: top;\n",
       "    }\n",
       "\n",
       "    .dataframe thead th {\n",
       "        text-align: right;\n",
       "    }\n",
       "</style>\n",
       "<table border=\"1\" class=\"dataframe\">\n",
       "  <thead>\n",
       "    <tr style=\"text-align: right;\">\n",
       "      <th></th>\n",
       "      <th>fecha</th>\n",
       "      <th>id</th>\n",
       "      <th>ddir_cliente</th>\n",
       "      <th>sob_cliente</th>\n",
       "      <th>deuda_actual_pp</th>\n",
       "      <th>deuda_actual_auto</th>\n",
       "      <th>atm_fa_cont</th>\n",
       "      <th>prom_atm_fa_3m</th>\n",
       "      <th>prom_atm_fa_6m</th>\n",
       "      <th>prom_atm_fa_12m</th>\n",
       "      <th>...</th>\n",
       "      <th>repr_rodamientos_24m</th>\n",
       "      <th>repr_sob_cliente</th>\n",
       "      <th>repr_huesped_pura_cliente</th>\n",
       "      <th>repr_mora_61_comp</th>\n",
       "      <th>mora_1_30_cat</th>\n",
       "      <th>prediction</th>\n",
       "      <th>saldok</th>\n",
       "      <th>marca_diciembre</th>\n",
       "      <th>default_90_12m</th>\n",
       "      <th>prediction_uno</th>\n",
       "    </tr>\n",
       "  </thead>\n",
       "  <tbody>\n",
       "    <tr>\n",
       "      <th>0</th>\n",
       "      <td>201807</td>\n",
       "      <td>98914714</td>\n",
       "      <td>1</td>\n",
       "      <td>0</td>\n",
       "      <td>0.360467</td>\n",
       "      <td>0.0</td>\n",
       "      <td>22</td>\n",
       "      <td>13.666667</td>\n",
       "      <td>6.833333</td>\n",
       "      <td>9.166667</td>\n",
       "      <td>...</td>\n",
       "      <td>0.130435</td>\n",
       "      <td>0.0</td>\n",
       "      <td>0.000000</td>\n",
       "      <td>0.0</td>\n",
       "      <td>5</td>\n",
       "      <td>0.502289</td>\n",
       "      <td>4661.10</td>\n",
       "      <td>0</td>\n",
       "      <td>1</td>\n",
       "      <td>0.228536</td>\n",
       "    </tr>\n",
       "    <tr>\n",
       "      <th>1</th>\n",
       "      <td>201807</td>\n",
       "      <td>478309</td>\n",
       "      <td>1</td>\n",
       "      <td>0</td>\n",
       "      <td>0.450767</td>\n",
       "      <td>0.0</td>\n",
       "      <td>2</td>\n",
       "      <td>1.000000</td>\n",
       "      <td>1.000000</td>\n",
       "      <td>3.416667</td>\n",
       "      <td>...</td>\n",
       "      <td>0.160000</td>\n",
       "      <td>0.0</td>\n",
       "      <td>0.000000</td>\n",
       "      <td>0.0</td>\n",
       "      <td>1</td>\n",
       "      <td>0.062833</td>\n",
       "      <td>2062.97</td>\n",
       "      <td>0</td>\n",
       "      <td>0</td>\n",
       "      <td>0.958452</td>\n",
       "    </tr>\n",
       "    <tr>\n",
       "      <th>2</th>\n",
       "      <td>202003</td>\n",
       "      <td>99025685</td>\n",
       "      <td>0</td>\n",
       "      <td>0</td>\n",
       "      <td>0.950302</td>\n",
       "      <td>0.0</td>\n",
       "      <td>12</td>\n",
       "      <td>3.000000</td>\n",
       "      <td>1.500000</td>\n",
       "      <td>0.750000</td>\n",
       "      <td>...</td>\n",
       "      <td>0.052632</td>\n",
       "      <td>0.0</td>\n",
       "      <td>0.000000</td>\n",
       "      <td>0.0</td>\n",
       "      <td>3</td>\n",
       "      <td>0.191961</td>\n",
       "      <td>9396.31</td>\n",
       "      <td>0</td>\n",
       "      <td>0</td>\n",
       "      <td>0.712523</td>\n",
       "    </tr>\n",
       "    <tr>\n",
       "      <th>3</th>\n",
       "      <td>201901</td>\n",
       "      <td>674483</td>\n",
       "      <td>0</td>\n",
       "      <td>0</td>\n",
       "      <td>0.000000</td>\n",
       "      <td>0.0</td>\n",
       "      <td>10</td>\n",
       "      <td>6.333333</td>\n",
       "      <td>4.333333</td>\n",
       "      <td>3.600000</td>\n",
       "      <td>...</td>\n",
       "      <td>0.272727</td>\n",
       "      <td>0.0</td>\n",
       "      <td>0.090909</td>\n",
       "      <td>0.0</td>\n",
       "      <td>2</td>\n",
       "      <td>0.260504</td>\n",
       "      <td>6042.14</td>\n",
       "      <td>0</td>\n",
       "      <td>0</td>\n",
       "      <td>0.873666</td>\n",
       "    </tr>\n",
       "    <tr>\n",
       "      <th>4</th>\n",
       "      <td>201410</td>\n",
       "      <td>98510113</td>\n",
       "      <td>1</td>\n",
       "      <td>0</td>\n",
       "      <td>0.584744</td>\n",
       "      <td>0.0</td>\n",
       "      <td>17</td>\n",
       "      <td>16.000000</td>\n",
       "      <td>16.000000</td>\n",
       "      <td>14.666667</td>\n",
       "      <td>...</td>\n",
       "      <td>0.080000</td>\n",
       "      <td>0.0</td>\n",
       "      <td>0.000000</td>\n",
       "      <td>0.0</td>\n",
       "      <td>4</td>\n",
       "      <td>0.078005</td>\n",
       "      <td>2435.87</td>\n",
       "      <td>0</td>\n",
       "      <td>0</td>\n",
       "      <td>0.955514</td>\n",
       "    </tr>\n",
       "  </tbody>\n",
       "</table>\n",
       "<p>5 rows × 37 columns</p>\n",
       "</div>"
      ],
      "text/plain": [
       "    fecha        id  ddir_cliente  sob_cliente  deuda_actual_pp  \\\n",
       "0  201807  98914714             1            0         0.360467   \n",
       "1  201807    478309             1            0         0.450767   \n",
       "2  202003  99025685             0            0         0.950302   \n",
       "3  201901    674483             0            0         0.000000   \n",
       "4  201410  98510113             1            0         0.584744   \n",
       "\n",
       "   deuda_actual_auto  atm_fa_cont  prom_atm_fa_3m  prom_atm_fa_6m  \\\n",
       "0                0.0           22       13.666667        6.833333   \n",
       "1                0.0            2        1.000000        1.000000   \n",
       "2                0.0           12        3.000000        1.500000   \n",
       "3                0.0           10        6.333333        4.333333   \n",
       "4                0.0           17       16.000000       16.000000   \n",
       "\n",
       "   prom_atm_fa_12m       ...        repr_rodamientos_24m  repr_sob_cliente  \\\n",
       "0         9.166667       ...                    0.130435               0.0   \n",
       "1         3.416667       ...                    0.160000               0.0   \n",
       "2         0.750000       ...                    0.052632               0.0   \n",
       "3         3.600000       ...                    0.272727               0.0   \n",
       "4        14.666667       ...                    0.080000               0.0   \n",
       "\n",
       "   repr_huesped_pura_cliente  repr_mora_61_comp  mora_1_30_cat  prediction  \\\n",
       "0                   0.000000                0.0              5    0.502289   \n",
       "1                   0.000000                0.0              1    0.062833   \n",
       "2                   0.000000                0.0              3    0.191961   \n",
       "3                   0.090909                0.0              2    0.260504   \n",
       "4                   0.000000                0.0              4    0.078005   \n",
       "\n",
       "    saldok  marca_diciembre  default_90_12m  prediction_uno  \n",
       "0  4661.10                0               1        0.228536  \n",
       "1  2062.97                0               0        0.958452  \n",
       "2  9396.31                0               0        0.712523  \n",
       "3  6042.14                0               0        0.873666  \n",
       "4  2435.87                0               0        0.955514  \n",
       "\n",
       "[5 rows x 37 columns]"
      ]
     },
     "execution_count": 21,
     "metadata": {},
     "output_type": "execute_result"
    }
   ],
   "source": [
    "base_final1.head(5)"
   ]
  },
  {
   "cell_type": "code",
   "execution_count": null,
   "metadata": {},
   "outputs": [],
   "source": [
    "#escribir base calificada completa\n",
    "base_final1.to_csv(r'D:\\base_completa_calificada_despues_RM.csv', header=1, index=None, sep=';')"
   ]
  },
  {
   "cell_type": "code",
   "execution_count": 22,
   "metadata": {},
   "outputs": [
    {
     "data": {
      "text/plain": [
       "0.10    0.255676\n",
       "0.25    0.592539\n",
       "0.50    0.837092\n",
       "0.75    0.926764\n",
       "0.80    0.940979\n",
       "0.85    0.952835\n",
       "0.90    0.962998\n",
       "0.95    0.979393\n",
       "Name: prediction_uno, dtype: float64"
      ]
     },
     "execution_count": 22,
     "metadata": {},
     "output_type": "execute_result"
    }
   ],
   "source": [
    "base_final1['prediction_uno'].quantile([.1, .25, .5, .75, .80, .85, .90, .95]) "
   ]
  },
  {
   "cell_type": "code",
   "execution_count": 23,
   "metadata": {},
   "outputs": [],
   "source": [
    "series = pd.Series(base_final.prediction_uno)"
   ]
  },
  {
   "cell_type": "code",
   "execution_count": 24,
   "metadata": {},
   "outputs": [
    {
     "data": {
      "image/png": "[encoded data removed]",
      "text/plain": [
       "<matplotlib.figure.Figure at 0x2166d777588>"
      ]
     },
     "metadata": {},
     "output_type": "display_data"
    }
   ],
   "source": [
    "hist=series.hist()"
   ]
  },
  {
   "cell_type": "code",
   "execution_count": 25,
   "metadata": {},
   "outputs": [
    {
     "name": "stdout",
     "output_type": "stream",
     "text": [
      "[23825.0, 26139.0, 22971.0, 23549.0, 24154.0, 35689.0, 45086.0, 64178.0, 135585.0, 208467.0]\n",
      "[0.011776940222488486, 0.11031721422655452, 0.2088574882306205, 0.3073977622346866, 0.4059380362387526, 0.5044783102428188, 0.6030185842468847, 0.7015588582509507, 0.8000991322550168, 0.8986394062590828, 0.9971796802631487]\n"
     ]
    }
   ],
   "source": [
    "def get_hist(ax):\n",
    "    n,bins = [],[]\n",
    "    for rect in ax.patches:\n",
    "        ((x0,y0),(x1,y1)) = rect.get_bbox().get_points()\n",
    "        n.append(y1-y0)\n",
    "        bins.append(x0)\n",
    "    bins.append(x1)\n",
    "    \n",
    "    return n, bins\n",
    "n, bins = get_hist(hist)\n",
    "\n",
    "print(n)\n",
    "print(bins)\n",
    "\n",
    "plt.show()"
   ]
  },
  {
   "cell_type": "markdown",
   "metadata": {},
   "source": [
    "### Pruebas base calificada"
   ]
  },
  {
   "cell_type": "code",
   "execution_count": 21,
   "metadata": {},
   "outputs": [],
   "source": [
    "#Gs modelo original\n",
    "def f(row):\n",
    "    if row['prediction'] < 0.009:\n",
    "        val = 1\n",
    "    elif row['prediction'] < 0.017:\n",
    "        val = 2\n",
    "    elif row['prediction'] < 0.03:\n",
    "        val = 3\n",
    "    elif row['prediction'] < 0.042:\n",
    "        val = 4\n",
    "    elif row['prediction'] < 0.08:\n",
    "        val = 5\n",
    "    elif row['prediction'] < 0.14:\n",
    "        val = 6\n",
    "    elif row['prediction'] < 0.28:\n",
    "        val = 7\n",
    "    elif row['prediction'] <= 1:\n",
    "        val = 8\n",
    "    else:\n",
    "        val = 20\n",
    "    return val"
   ]
  },
  {
   "cell_type": "code",
   "execution_count": 8,
   "metadata": {},
   "outputs": [],
   "source": [
    "def nm(row):\n",
    "    current_prediction = row['prediction_uno']\n",
    "    if current_prediction > row['prediction']:\n",
    "        current_prediction = row['prediction']\n",
    "    if current_prediction < 0.012:\n",
    "        val = 'G1_n'\n",
    "    elif current_prediction < 0.11:\n",
    "        val = 'G2_n'\n",
    "    elif current_prediction < 0.21:\n",
    "        val = 'G3_n'\n",
    "    elif current_prediction < 0.31:\n",
    "        val = 'G4_n'\n",
    "    elif current_prediction < 0.41:\n",
    "        val = 'G5_n'\n",
    "    elif current_prediction < 0.50:\n",
    "        val = 'G6_n'\n",
    "    elif current_prediction < 0.60:\n",
    "        val = 'G7_n'\n",
    "    elif current_prediction <= 1:\n",
    "        val = 'G8_n'\n",
    "    else:\n",
    "        val = 'G20_n'\n",
    "    return val"
   ]
  },
  {
   "cell_type": "code",
   "execution_count": 20,
   "metadata": {},
   "outputs": [
    {
     "ename": "KeyError",
     "evalue": "('prediction', 'occurred at index 0')",
     "output_type": "error",
     "traceback": [
      "\u001b[1;31m---------------------------------------------------------------------------\u001b[0m",
      "\u001b[1;31mTypeError\u001b[0m                                 Traceback (most recent call last)",
      "\u001b[1;32m~\\AppData\\Local\\Continuum\\anaconda31\\lib\\site-packages\\pandas\\core\\indexes\\base.py\u001b[0m in \u001b[0;36mget_value\u001b[1;34m(self, series, key)\u001b[0m\n\u001b[0;32m   2565\u001b[0m             \u001b[1;32mtry\u001b[0m\u001b[1;33m:\u001b[0m\u001b[1;33m\u001b[0m\u001b[0m\n\u001b[1;32m-> 2566\u001b[1;33m                 \u001b[1;32mreturn\u001b[0m \u001b[0mlibts\u001b[0m\u001b[1;33m.\u001b[0m\u001b[0mget_value_box\u001b[0m\u001b[1;33m(\u001b[0m\u001b[0ms\u001b[0m\u001b[1;33m,\u001b[0m \u001b[0mkey\u001b[0m\u001b[1;33m)\u001b[0m\u001b[1;33m\u001b[0m\u001b[0m\n\u001b[0m\u001b[0;32m   2567\u001b[0m             \u001b[1;32mexcept\u001b[0m \u001b[0mIndexError\u001b[0m\u001b[1;33m:\u001b[0m\u001b[1;33m\u001b[0m\u001b[0m\n",
      "\u001b[1;32mpandas/_libs/tslib.pyx\u001b[0m in \u001b[0;36mpandas._libs.tslib.get_value_box\u001b[1;34m()\u001b[0m\n",
      "\u001b[1;32mpandas/_libs/tslib.pyx\u001b[0m in \u001b[0;36mpandas._libs.tslib.get_value_box\u001b[1;34m()\u001b[0m\n",
      "\u001b[1;31mTypeError\u001b[0m: 'str' object cannot be interpreted as an integer",
      "\nDuring handling of the above exception, another exception occurred:\n",
      "\u001b[1;31mKeyError\u001b[0m                                  Traceback (most recent call last)",
      "\u001b[1;32m<ipython-input-20-8bd5791bc8cc>\u001b[0m in \u001b[0;36m<module>\u001b[1;34m()\u001b[0m\n\u001b[1;32m----> 1\u001b[1;33m \u001b[0mdf\u001b[0m\u001b[1;33m[\u001b[0m\u001b[1;34m'Gs_original_cat'\u001b[0m\u001b[1;33m]\u001b[0m \u001b[1;33m=\u001b[0m \u001b[0mdf\u001b[0m\u001b[1;33m.\u001b[0m\u001b[0mapply\u001b[0m\u001b[1;33m(\u001b[0m\u001b[0mf\u001b[0m\u001b[1;33m,\u001b[0m \u001b[0maxis\u001b[0m\u001b[1;33m=\u001b[0m\u001b[1;36m1\u001b[0m\u001b[1;33m)\u001b[0m\u001b[1;33m\u001b[0m\u001b[0m\n\u001b[0m",
      "\u001b[1;32m~\\AppData\\Local\\Continuum\\anaconda31\\lib\\site-packages\\pandas\\core\\frame.py\u001b[0m in \u001b[0;36mapply\u001b[1;34m(self, func, axis, broadcast, raw, reduce, args, **kwds)\u001b[0m\n\u001b[0;32m   4875\u001b[0m                         \u001b[0mf\u001b[0m\u001b[1;33m,\u001b[0m \u001b[0maxis\u001b[0m\u001b[1;33m,\u001b[0m\u001b[1;33m\u001b[0m\u001b[0m\n\u001b[0;32m   4876\u001b[0m                         \u001b[0mreduce\u001b[0m\u001b[1;33m=\u001b[0m\u001b[0mreduce\u001b[0m\u001b[1;33m,\u001b[0m\u001b[1;33m\u001b[0m\u001b[0m\n\u001b[1;32m-> 4877\u001b[1;33m                         ignore_failures=ignore_failures)\n\u001b[0m\u001b[0;32m   4878\u001b[0m             \u001b[1;32melse\u001b[0m\u001b[1;33m:\u001b[0m\u001b[1;33m\u001b[0m\u001b[0m\n\u001b[0;32m   4879\u001b[0m                 \u001b[1;32mreturn\u001b[0m \u001b[0mself\u001b[0m\u001b[1;33m.\u001b[0m\u001b[0m_apply_broadcast\u001b[0m\u001b[1;33m(\u001b[0m\u001b[0mf\u001b[0m\u001b[1;33m,\u001b[0m \u001b[0maxis\u001b[0m\u001b[1;33m)\u001b[0m\u001b[1;33m\u001b[0m\u001b[0m\n",
      "\u001b[1;32m~\\AppData\\Local\\Continuum\\anaconda31\\lib\\site-packages\\pandas\\core\\frame.py\u001b[0m in \u001b[0;36m_apply_standard\u001b[1;34m(self, func, axis, ignore_failures, reduce)\u001b[0m\n\u001b[0;32m   4971\u001b[0m             \u001b[1;32mtry\u001b[0m\u001b[1;33m:\u001b[0m\u001b[1;33m\u001b[0m\u001b[0m\n\u001b[0;32m   4972\u001b[0m                 \u001b[1;32mfor\u001b[0m \u001b[0mi\u001b[0m\u001b[1;33m,\u001b[0m \u001b[0mv\u001b[0m \u001b[1;32min\u001b[0m \u001b[0menumerate\u001b[0m\u001b[1;33m(\u001b[0m\u001b[0mseries_gen\u001b[0m\u001b[1;33m)\u001b[0m\u001b[1;33m:\u001b[0m\u001b[1;33m\u001b[0m\u001b[0m\n\u001b[1;32m-> 4973\u001b[1;33m                     \u001b[0mresults\u001b[0m\u001b[1;33m[\u001b[0m\u001b[0mi\u001b[0m\u001b[1;33m]\u001b[0m \u001b[1;33m=\u001b[0m \u001b[0mfunc\u001b[0m\u001b[1;33m(\u001b[0m\u001b[0mv\u001b[0m\u001b[1;33m)\u001b[0m\u001b[1;33m\u001b[0m\u001b[0m\n\u001b[0m\u001b[0;32m   4974\u001b[0m                     \u001b[0mkeys\u001b[0m\u001b[1;33m.\u001b[0m\u001b[0mappend\u001b[0m\u001b[1;33m(\u001b[0m\u001b[0mv\u001b[0m\u001b[1;33m.\u001b[0m\u001b[0mname\u001b[0m\u001b[1;33m)\u001b[0m\u001b[1;33m\u001b[0m\u001b[0m\n\u001b[0;32m   4975\u001b[0m             \u001b[1;32mexcept\u001b[0m \u001b[0mException\u001b[0m \u001b[1;32mas\u001b[0m \u001b[0me\u001b[0m\u001b[1;33m:\u001b[0m\u001b[1;33m\u001b[0m\u001b[0m\n",
      "\u001b[1;32m<ipython-input-19-0311304df033>\u001b[0m in \u001b[0;36mf\u001b[1;34m(row)\u001b[0m\n\u001b[0;32m      1\u001b[0m \u001b[1;31m#Gs modelo original\u001b[0m\u001b[1;33m\u001b[0m\u001b[1;33m\u001b[0m\u001b[0m\n\u001b[0;32m      2\u001b[0m \u001b[1;32mdef\u001b[0m \u001b[0mf\u001b[0m\u001b[1;33m(\u001b[0m\u001b[0mrow\u001b[0m\u001b[1;33m)\u001b[0m\u001b[1;33m:\u001b[0m\u001b[1;33m\u001b[0m\u001b[0m\n\u001b[1;32m----> 3\u001b[1;33m     \u001b[1;32mif\u001b[0m \u001b[0mrow\u001b[0m\u001b[1;33m[\u001b[0m\u001b[1;34m'prediction'\u001b[0m\u001b[1;33m]\u001b[0m \u001b[1;33m<\u001b[0m \u001b[1;36m0.009\u001b[0m\u001b[1;33m:\u001b[0m\u001b[1;33m\u001b[0m\u001b[0m\n\u001b[0m\u001b[0;32m      4\u001b[0m         \u001b[0mval\u001b[0m \u001b[1;33m=\u001b[0m \u001b[1;36m1\u001b[0m\u001b[1;33m\u001b[0m\u001b[0m\n\u001b[0;32m      5\u001b[0m     \u001b[1;32melif\u001b[0m \u001b[0mrow\u001b[0m\u001b[1;33m[\u001b[0m\u001b[1;34m'prediction'\u001b[0m\u001b[1;33m]\u001b[0m \u001b[1;33m<\u001b[0m \u001b[1;36m0.017\u001b[0m\u001b[1;33m:\u001b[0m\u001b[1;33m\u001b[0m\u001b[0m\n",
      "\u001b[1;32m~\\AppData\\Local\\Continuum\\anaconda31\\lib\\site-packages\\pandas\\core\\series.py\u001b[0m in \u001b[0;36m__getitem__\u001b[1;34m(self, key)\u001b[0m\n\u001b[0;32m    621\u001b[0m         \u001b[0mkey\u001b[0m \u001b[1;33m=\u001b[0m \u001b[0mcom\u001b[0m\u001b[1;33m.\u001b[0m\u001b[0m_apply_if_callable\u001b[0m\u001b[1;33m(\u001b[0m\u001b[0mkey\u001b[0m\u001b[1;33m,\u001b[0m \u001b[0mself\u001b[0m\u001b[1;33m)\u001b[0m\u001b[1;33m\u001b[0m\u001b[0m\n\u001b[0;32m    622\u001b[0m         \u001b[1;32mtry\u001b[0m\u001b[1;33m:\u001b[0m\u001b[1;33m\u001b[0m\u001b[0m\n\u001b[1;32m--> 623\u001b[1;33m             \u001b[0mresult\u001b[0m \u001b[1;33m=\u001b[0m \u001b[0mself\u001b[0m\u001b[1;33m.\u001b[0m\u001b[0mindex\u001b[0m\u001b[1;33m.\u001b[0m\u001b[0mget_value\u001b[0m\u001b[1;33m(\u001b[0m\u001b[0mself\u001b[0m\u001b[1;33m,\u001b[0m \u001b[0mkey\u001b[0m\u001b[1;33m)\u001b[0m\u001b[1;33m\u001b[0m\u001b[0m\n\u001b[0m\u001b[0;32m    624\u001b[0m \u001b[1;33m\u001b[0m\u001b[0m\n\u001b[0;32m    625\u001b[0m             \u001b[1;32mif\u001b[0m \u001b[1;32mnot\u001b[0m \u001b[0mis_scalar\u001b[0m\u001b[1;33m(\u001b[0m\u001b[0mresult\u001b[0m\u001b[1;33m)\u001b[0m\u001b[1;33m:\u001b[0m\u001b[1;33m\u001b[0m\u001b[0m\n",
      "\u001b[1;32m~\\AppData\\Local\\Continuum\\anaconda31\\lib\\site-packages\\pandas\\core\\indexes\\base.py\u001b[0m in \u001b[0;36mget_value\u001b[1;34m(self, series, key)\u001b[0m\n\u001b[0;32m   2572\u001b[0m                     \u001b[1;32mraise\u001b[0m \u001b[0mInvalidIndexError\u001b[0m\u001b[1;33m(\u001b[0m\u001b[0mkey\u001b[0m\u001b[1;33m)\u001b[0m\u001b[1;33m\u001b[0m\u001b[0m\n\u001b[0;32m   2573\u001b[0m                 \u001b[1;32melse\u001b[0m\u001b[1;33m:\u001b[0m\u001b[1;33m\u001b[0m\u001b[0m\n\u001b[1;32m-> 2574\u001b[1;33m                     \u001b[1;32mraise\u001b[0m \u001b[0me1\u001b[0m\u001b[1;33m\u001b[0m\u001b[0m\n\u001b[0m\u001b[0;32m   2575\u001b[0m             \u001b[1;32mexcept\u001b[0m \u001b[0mException\u001b[0m\u001b[1;33m:\u001b[0m  \u001b[1;31m# pragma: no cover\u001b[0m\u001b[1;33m\u001b[0m\u001b[0m\n\u001b[0;32m   2576\u001b[0m                 \u001b[1;32mraise\u001b[0m \u001b[0me1\u001b[0m\u001b[1;33m\u001b[0m\u001b[0m\n",
      "\u001b[1;32m~\\AppData\\Local\\Continuum\\anaconda31\\lib\\site-packages\\pandas\\core\\indexes\\base.py\u001b[0m in \u001b[0;36mget_value\u001b[1;34m(self, series, key)\u001b[0m\n\u001b[0;32m   2558\u001b[0m         \u001b[1;32mtry\u001b[0m\u001b[1;33m:\u001b[0m\u001b[1;33m\u001b[0m\u001b[0m\n\u001b[0;32m   2559\u001b[0m             return self._engine.get_value(s, k,\n\u001b[1;32m-> 2560\u001b[1;33m                                           tz=getattr(series.dtype, 'tz', None))\n\u001b[0m\u001b[0;32m   2561\u001b[0m         \u001b[1;32mexcept\u001b[0m \u001b[0mKeyError\u001b[0m \u001b[1;32mas\u001b[0m \u001b[0me1\u001b[0m\u001b[1;33m:\u001b[0m\u001b[1;33m\u001b[0m\u001b[0m\n\u001b[0;32m   2562\u001b[0m             \u001b[1;32mif\u001b[0m \u001b[0mlen\u001b[0m\u001b[1;33m(\u001b[0m\u001b[0mself\u001b[0m\u001b[1;33m)\u001b[0m \u001b[1;33m>\u001b[0m \u001b[1;36m0\u001b[0m \u001b[1;32mand\u001b[0m \u001b[0mself\u001b[0m\u001b[1;33m.\u001b[0m\u001b[0minferred_type\u001b[0m \u001b[1;32min\u001b[0m \u001b[1;33m[\u001b[0m\u001b[1;34m'integer'\u001b[0m\u001b[1;33m,\u001b[0m \u001b[1;34m'boolean'\u001b[0m\u001b[1;33m]\u001b[0m\u001b[1;33m:\u001b[0m\u001b[1;33m\u001b[0m\u001b[0m\n",
      "\u001b[1;32mpandas/_libs/index.pyx\u001b[0m in \u001b[0;36mpandas._libs.index.IndexEngine.get_value\u001b[1;34m()\u001b[0m\n",
      "\u001b[1;32mpandas/_libs/index.pyx\u001b[0m in \u001b[0;36mpandas._libs.index.IndexEngine.get_value\u001b[1;34m()\u001b[0m\n",
      "\u001b[1;32mpandas/_libs/index.pyx\u001b[0m in \u001b[0;36mpandas._libs.index.IndexEngine.get_loc\u001b[1;34m()\u001b[0m\n",
      "\u001b[1;32mpandas/_libs/hashtable_class_helper.pxi\u001b[0m in \u001b[0;36mpandas._libs.hashtable.PyObjectHashTable.get_item\u001b[1;34m()\u001b[0m\n",
      "\u001b[1;32mpandas/_libs/hashtable_class_helper.pxi\u001b[0m in \u001b[0;36mpandas._libs.hashtable.PyObjectHashTable.get_item\u001b[1;34m()\u001b[0m\n",
      "\u001b[1;31mKeyError\u001b[0m: ('prediction', 'occurred at index 0')"
     ]
    }
   ],
   "source": [
    "df['Gs_original_cat'] = df.apply(f, axis=1)"
   ]
  },
  {
   "cell_type": "code",
   "execution_count": 10,
   "metadata": {},
   "outputs": [
    {
     "data": {
      "text/html": [
       "<div>\n",
       "<style scoped>\n",
       "    .dataframe tbody tr th:only-of-type {\n",
       "        vertical-align: middle;\n",
       "    }\n",
       "\n",
       "    .dataframe tbody tr th {\n",
       "        vertical-align: top;\n",
       "    }\n",
       "\n",
       "    .dataframe thead th {\n",
       "        text-align: right;\n",
       "    }\n",
       "</style>\n",
       "<table border=\"1\" class=\"dataframe\">\n",
       "  <thead>\n",
       "    <tr style=\"text-align: right;\">\n",
       "      <th></th>\n",
       "      <th>fecha</th>\n",
       "      <th>id</th>\n",
       "      <th>prediction</th>\n",
       "      <th>escala_riesgo</th>\n",
       "      <th>default_90_12m</th>\n",
       "      <th>Gs_original_cat</th>\n",
       "    </tr>\n",
       "  </thead>\n",
       "  <tbody>\n",
       "    <tr>\n",
       "      <th>0</th>\n",
       "      <td>201902</td>\n",
       "      <td>98826068</td>\n",
       "      <td>0.046405</td>\n",
       "      <td>G5</td>\n",
       "      <td>0</td>\n",
       "      <td>5</td>\n",
       "    </tr>\n",
       "    <tr>\n",
       "      <th>1</th>\n",
       "      <td>201902</td>\n",
       "      <td>531512</td>\n",
       "      <td>0.011667</td>\n",
       "      <td>G2</td>\n",
       "      <td>0</td>\n",
       "      <td>2</td>\n",
       "    </tr>\n",
       "    <tr>\n",
       "      <th>2</th>\n",
       "      <td>201902</td>\n",
       "      <td>98677140</td>\n",
       "      <td>0.414894</td>\n",
       "      <td>G8</td>\n",
       "      <td>0</td>\n",
       "      <td>8</td>\n",
       "    </tr>\n",
       "    <tr>\n",
       "      <th>3</th>\n",
       "      <td>201902</td>\n",
       "      <td>98616670</td>\n",
       "      <td>0.022732</td>\n",
       "      <td>G3</td>\n",
       "      <td>0</td>\n",
       "      <td>3</td>\n",
       "    </tr>\n",
       "    <tr>\n",
       "      <th>4</th>\n",
       "      <td>201902</td>\n",
       "      <td>98842253</td>\n",
       "      <td>0.070353</td>\n",
       "      <td>G5</td>\n",
       "      <td>0</td>\n",
       "      <td>5</td>\n",
       "    </tr>\n",
       "  </tbody>\n",
       "</table>\n",
       "</div>"
      ],
      "text/plain": [
       "    fecha        id  prediction escala_riesgo  default_90_12m  Gs_original_cat\n",
       "0  201902  98826068    0.046405            G5               0                5\n",
       "1  201902    531512    0.011667            G2               0                2\n",
       "2  201902  98677140    0.414894            G8               0                8\n",
       "3  201902  98616670    0.022732            G3               0                3\n",
       "4  201902  98842253    0.070353            G5               0                5"
      ]
     },
     "execution_count": 10,
     "metadata": {},
     "output_type": "execute_result"
    }
   ],
   "source": [
    "df.head()"
   ]
  },
  {
   "cell_type": "code",
   "execution_count": 30,
   "metadata": {},
   "outputs": [
    {
     "data": {
      "text/html": [
       "<div>\n",
       "<style scoped>\n",
       "    .dataframe tbody tr th:only-of-type {\n",
       "        vertical-align: middle;\n",
       "    }\n",
       "\n",
       "    .dataframe tbody tr th {\n",
       "        vertical-align: top;\n",
       "    }\n",
       "\n",
       "    .dataframe thead th {\n",
       "        text-align: right;\n",
       "    }\n",
       "</style>\n",
       "<table border=\"1\" class=\"dataframe\">\n",
       "  <thead>\n",
       "    <tr style=\"text-align: right;\">\n",
       "      <th></th>\n",
       "      <th>fecha</th>\n",
       "      <th>id</th>\n",
       "      <th>ddir_cliente</th>\n",
       "      <th>sob_cliente</th>\n",
       "      <th>deuda_actual_pp</th>\n",
       "      <th>deuda_actual_auto</th>\n",
       "      <th>atm_fa_cont</th>\n",
       "      <th>prom_atm_fa_3m</th>\n",
       "      <th>prom_atm_fa_6m</th>\n",
       "      <th>prom_atm_fa_12m</th>\n",
       "      <th>...</th>\n",
       "      <th>repr_huesped_pura_cliente</th>\n",
       "      <th>repr_mora_61_comp</th>\n",
       "      <th>mora_1_30_cat</th>\n",
       "      <th>prediction</th>\n",
       "      <th>saldok</th>\n",
       "      <th>marca_diciembre</th>\n",
       "      <th>default_90_12m</th>\n",
       "      <th>prediction_uno</th>\n",
       "      <th>Gs_original</th>\n",
       "      <th>Gs_nuevo_modelo</th>\n",
       "    </tr>\n",
       "  </thead>\n",
       "  <tbody>\n",
       "    <tr>\n",
       "      <th>0</th>\n",
       "      <td>201807</td>\n",
       "      <td>98914714</td>\n",
       "      <td>1</td>\n",
       "      <td>0</td>\n",
       "      <td>0.360467</td>\n",
       "      <td>0.0</td>\n",
       "      <td>22</td>\n",
       "      <td>13.666667</td>\n",
       "      <td>6.833333</td>\n",
       "      <td>9.166667</td>\n",
       "      <td>...</td>\n",
       "      <td>0.000000</td>\n",
       "      <td>0.0</td>\n",
       "      <td>5</td>\n",
       "      <td>0.502289</td>\n",
       "      <td>4661.10</td>\n",
       "      <td>0</td>\n",
       "      <td>1</td>\n",
       "      <td>0.228536</td>\n",
       "      <td>G8</td>\n",
       "      <td>G4_n</td>\n",
       "    </tr>\n",
       "    <tr>\n",
       "      <th>1</th>\n",
       "      <td>201807</td>\n",
       "      <td>478309</td>\n",
       "      <td>1</td>\n",
       "      <td>0</td>\n",
       "      <td>0.450767</td>\n",
       "      <td>0.0</td>\n",
       "      <td>2</td>\n",
       "      <td>1.000000</td>\n",
       "      <td>1.000000</td>\n",
       "      <td>3.416667</td>\n",
       "      <td>...</td>\n",
       "      <td>0.000000</td>\n",
       "      <td>0.0</td>\n",
       "      <td>1</td>\n",
       "      <td>0.062833</td>\n",
       "      <td>2062.97</td>\n",
       "      <td>0</td>\n",
       "      <td>0</td>\n",
       "      <td>0.958452</td>\n",
       "      <td>G5</td>\n",
       "      <td>G2_n</td>\n",
       "    </tr>\n",
       "    <tr>\n",
       "      <th>2</th>\n",
       "      <td>202003</td>\n",
       "      <td>99025685</td>\n",
       "      <td>0</td>\n",
       "      <td>0</td>\n",
       "      <td>0.950302</td>\n",
       "      <td>0.0</td>\n",
       "      <td>12</td>\n",
       "      <td>3.000000</td>\n",
       "      <td>1.500000</td>\n",
       "      <td>0.750000</td>\n",
       "      <td>...</td>\n",
       "      <td>0.000000</td>\n",
       "      <td>0.0</td>\n",
       "      <td>3</td>\n",
       "      <td>0.191961</td>\n",
       "      <td>9396.31</td>\n",
       "      <td>0</td>\n",
       "      <td>0</td>\n",
       "      <td>0.712523</td>\n",
       "      <td>G7</td>\n",
       "      <td>G3_n</td>\n",
       "    </tr>\n",
       "    <tr>\n",
       "      <th>3</th>\n",
       "      <td>201901</td>\n",
       "      <td>674483</td>\n",
       "      <td>0</td>\n",
       "      <td>0</td>\n",
       "      <td>0.000000</td>\n",
       "      <td>0.0</td>\n",
       "      <td>10</td>\n",
       "      <td>6.333333</td>\n",
       "      <td>4.333333</td>\n",
       "      <td>3.600000</td>\n",
       "      <td>...</td>\n",
       "      <td>0.090909</td>\n",
       "      <td>0.0</td>\n",
       "      <td>2</td>\n",
       "      <td>0.260504</td>\n",
       "      <td>6042.14</td>\n",
       "      <td>0</td>\n",
       "      <td>0</td>\n",
       "      <td>0.873666</td>\n",
       "      <td>G7</td>\n",
       "      <td>G4_n</td>\n",
       "    </tr>\n",
       "    <tr>\n",
       "      <th>4</th>\n",
       "      <td>201410</td>\n",
       "      <td>98510113</td>\n",
       "      <td>1</td>\n",
       "      <td>0</td>\n",
       "      <td>0.584744</td>\n",
       "      <td>0.0</td>\n",
       "      <td>17</td>\n",
       "      <td>16.000000</td>\n",
       "      <td>16.000000</td>\n",
       "      <td>14.666667</td>\n",
       "      <td>...</td>\n",
       "      <td>0.000000</td>\n",
       "      <td>0.0</td>\n",
       "      <td>4</td>\n",
       "      <td>0.078005</td>\n",
       "      <td>2435.87</td>\n",
       "      <td>0</td>\n",
       "      <td>0</td>\n",
       "      <td>0.955514</td>\n",
       "      <td>G5</td>\n",
       "      <td>G2_n</td>\n",
       "    </tr>\n",
       "  </tbody>\n",
       "</table>\n",
       "<p>5 rows × 39 columns</p>\n",
       "</div>"
      ],
      "text/plain": [
       "    fecha        id  ddir_cliente  sob_cliente  deuda_actual_pp  \\\n",
       "0  201807  98914714             1            0         0.360467   \n",
       "1  201807    478309             1            0         0.450767   \n",
       "2  202003  99025685             0            0         0.950302   \n",
       "3  201901    674483             0            0         0.000000   \n",
       "4  201410  98510113             1            0         0.584744   \n",
       "\n",
       "   deuda_actual_auto  atm_fa_cont  prom_atm_fa_3m  prom_atm_fa_6m  \\\n",
       "0                0.0           22       13.666667        6.833333   \n",
       "1                0.0            2        1.000000        1.000000   \n",
       "2                0.0           12        3.000000        1.500000   \n",
       "3                0.0           10        6.333333        4.333333   \n",
       "4                0.0           17       16.000000       16.000000   \n",
       "\n",
       "   prom_atm_fa_12m       ...         repr_huesped_pura_cliente  \\\n",
       "0         9.166667       ...                          0.000000   \n",
       "1         3.416667       ...                          0.000000   \n",
       "2         0.750000       ...                          0.000000   \n",
       "3         3.600000       ...                          0.090909   \n",
       "4        14.666667       ...                          0.000000   \n",
       "\n",
       "   repr_mora_61_comp  mora_1_30_cat  prediction   saldok  marca_diciembre  \\\n",
       "0                0.0              5    0.502289  4661.10                0   \n",
       "1                0.0              1    0.062833  2062.97                0   \n",
       "2                0.0              3    0.191961  9396.31                0   \n",
       "3                0.0              2    0.260504  6042.14                0   \n",
       "4                0.0              4    0.078005  2435.87                0   \n",
       "\n",
       "   default_90_12m  prediction_uno  Gs_original  Gs_nuevo_modelo  \n",
       "0               1        0.228536           G8             G4_n  \n",
       "1               0        0.958452           G5             G2_n  \n",
       "2               0        0.712523           G7             G3_n  \n",
       "3               0        0.873666           G7             G4_n  \n",
       "4               0        0.955514           G5             G2_n  \n",
       "\n",
       "[5 rows x 39 columns]"
      ]
     },
     "execution_count": 30,
     "metadata": {},
     "output_type": "execute_result"
    }
   ],
   "source": [
    "base_final1.head(5)"
   ]
  },
  {
   "cell_type": "code",
   "execution_count": 31,
   "metadata": {},
   "outputs": [],
   "source": [
    "#matriz general\n",
    "new_data = base_final1.pivot_table(values='id', index='Gs_original', columns='Gs_nuevo_modelo',\n",
    "                         aggfunc=lambda x: len(x))"
   ]
  },
  {
   "cell_type": "code",
   "execution_count": null,
   "metadata": {},
   "outputs": [],
   "source": [
    "#matriz por fecha de analisis\n",
    "new_data = base_final1[base_final1.fecha==202003].pivot_table(values='id', index='Gs_original', columns='Gs_nuevo_modelo',\n",
    "                                                            aggfunc=lambda x: len(x.unique()))"
   ]
  },
  {
   "cell_type": "code",
   "execution_count": 32,
   "metadata": {},
   "outputs": [
    {
     "data": {
      "text/html": [
       "<div>\n",
       "<style scoped>\n",
       "    .dataframe tbody tr th:only-of-type {\n",
       "        vertical-align: middle;\n",
       "    }\n",
       "\n",
       "    .dataframe tbody tr th {\n",
       "        vertical-align: top;\n",
       "    }\n",
       "\n",
       "    .dataframe thead th {\n",
       "        text-align: right;\n",
       "    }\n",
       "</style>\n",
       "<table border=\"1\" class=\"dataframe\">\n",
       "  <thead>\n",
       "    <tr style=\"text-align: right;\">\n",
       "      <th>Gs_nuevo_modelo</th>\n",
       "      <th>G1_n</th>\n",
       "      <th>G2_n</th>\n",
       "      <th>G3_n</th>\n",
       "      <th>G4_n</th>\n",
       "      <th>G5_n</th>\n",
       "      <th>G6_n</th>\n",
       "      <th>G7_n</th>\n",
       "    </tr>\n",
       "    <tr>\n",
       "      <th>Gs_original</th>\n",
       "      <th></th>\n",
       "      <th></th>\n",
       "      <th></th>\n",
       "      <th></th>\n",
       "      <th></th>\n",
       "      <th></th>\n",
       "      <th></th>\n",
       "    </tr>\n",
       "  </thead>\n",
       "  <tbody>\n",
       "    <tr>\n",
       "      <th>G1</th>\n",
       "      <td>1121.0</td>\n",
       "      <td>NaN</td>\n",
       "      <td>NaN</td>\n",
       "      <td>NaN</td>\n",
       "      <td>NaN</td>\n",
       "      <td>NaN</td>\n",
       "      <td>NaN</td>\n",
       "    </tr>\n",
       "    <tr>\n",
       "      <th>G2</th>\n",
       "      <td>1919.0</td>\n",
       "      <td>9136.0</td>\n",
       "      <td>NaN</td>\n",
       "      <td>NaN</td>\n",
       "      <td>NaN</td>\n",
       "      <td>NaN</td>\n",
       "      <td>NaN</td>\n",
       "    </tr>\n",
       "    <tr>\n",
       "      <th>G3</th>\n",
       "      <td>NaN</td>\n",
       "      <td>27211.0</td>\n",
       "      <td>NaN</td>\n",
       "      <td>NaN</td>\n",
       "      <td>NaN</td>\n",
       "      <td>NaN</td>\n",
       "      <td>NaN</td>\n",
       "    </tr>\n",
       "    <tr>\n",
       "      <th>G4</th>\n",
       "      <td>NaN</td>\n",
       "      <td>16552.0</td>\n",
       "      <td>NaN</td>\n",
       "      <td>NaN</td>\n",
       "      <td>NaN</td>\n",
       "      <td>NaN</td>\n",
       "      <td>NaN</td>\n",
       "    </tr>\n",
       "    <tr>\n",
       "      <th>G5</th>\n",
       "      <td>NaN</td>\n",
       "      <td>78318.0</td>\n",
       "      <td>NaN</td>\n",
       "      <td>NaN</td>\n",
       "      <td>NaN</td>\n",
       "      <td>NaN</td>\n",
       "      <td>NaN</td>\n",
       "    </tr>\n",
       "    <tr>\n",
       "      <th>G6</th>\n",
       "      <td>NaN</td>\n",
       "      <td>44169.0</td>\n",
       "      <td>45911.0</td>\n",
       "      <td>NaN</td>\n",
       "      <td>NaN</td>\n",
       "      <td>NaN</td>\n",
       "      <td>NaN</td>\n",
       "    </tr>\n",
       "    <tr>\n",
       "      <th>G7</th>\n",
       "      <td>NaN</td>\n",
       "      <td>NaN</td>\n",
       "      <td>84735.0</td>\n",
       "      <td>73453.0</td>\n",
       "      <td>NaN</td>\n",
       "      <td>NaN</td>\n",
       "      <td>NaN</td>\n",
       "    </tr>\n",
       "    <tr>\n",
       "      <th>G8</th>\n",
       "      <td>1.0</td>\n",
       "      <td>23709.0</td>\n",
       "      <td>26522.0</td>\n",
       "      <td>54378.0</td>\n",
       "      <td>96945.0</td>\n",
       "      <td>23024.0</td>\n",
       "      <td>2539.0</td>\n",
       "    </tr>\n",
       "  </tbody>\n",
       "</table>\n",
       "</div>"
      ],
      "text/plain": [
       "Gs_nuevo_modelo    G1_n     G2_n     G3_n     G4_n     G5_n     G6_n    G7_n\n",
       "Gs_original                                                                 \n",
       "G1               1121.0      NaN      NaN      NaN      NaN      NaN     NaN\n",
       "G2               1919.0   9136.0      NaN      NaN      NaN      NaN     NaN\n",
       "G3                  NaN  27211.0      NaN      NaN      NaN      NaN     NaN\n",
       "G4                  NaN  16552.0      NaN      NaN      NaN      NaN     NaN\n",
       "G5                  NaN  78318.0      NaN      NaN      NaN      NaN     NaN\n",
       "G6                  NaN  44169.0  45911.0      NaN      NaN      NaN     NaN\n",
       "G7                  NaN      NaN  84735.0  73453.0      NaN      NaN     NaN\n",
       "G8                  1.0  23709.0  26522.0  54378.0  96945.0  23024.0  2539.0"
      ]
     },
     "execution_count": 32,
     "metadata": {},
     "output_type": "execute_result"
    }
   ],
   "source": [
    "new_data"
   ]
  },
  {
   "cell_type": "code",
   "execution_count": null,
   "metadata": {},
   "outputs": [],
   "source": [
    "base_final1['g_ultima'] = base_final1.Gs_nuevo_modelo.replace('_n','')"
   ]
  },
  {
   "cell_type": "code",
   "execution_count": null,
   "metadata": {},
   "outputs": [],
   "source": [
    "base_final1.head()"
   ]
  },
  {
   "cell_type": "code",
   "execution_count": null,
   "metadata": {},
   "outputs": [],
   "source": [
    "base_final1['g_ultima'] = base_final1['g_ultima'].str.replace('_n','')"
   ]
  },
  {
   "cell_type": "code",
   "execution_count": null,
   "metadata": {},
   "outputs": [],
   "source": [
    "base_final1.head()"
   ]
  },
  {
   "cell_type": "code",
   "execution_count": null,
   "metadata": {},
   "outputs": [],
   "source": [
    "new_data_1 = base_final1[(base_final1.fecha >= 201306) & (base_final1.g_ultima != base_final1.Gs_original)].pivot_table(values='id', index='fecha', columns='g_ultima',\n",
    "                                                         aggfunc=lambda x: len(x))\n",
    "\n",
    " \n",
    "\n",
    "new_data_1.reset_index(level=0, inplace=True)\n",
    "\n",
    " \n",
    "\n",
    "#new_data.to_csv('recuperados.csv', header=True, index = False)\n",
    "new_data_1"
   ]
  },
  {
   "cell_type": "code",
   "execution_count": null,
   "metadata": {},
   "outputs": [],
   "source": [
    "new_data_1.to_csv(r'D:\\base_completa_recuperados1.csv', header=1, index=None, sep=';')"
   ]
  },
  {
   "cell_type": "code",
   "execution_count": null,
   "metadata": {},
   "outputs": [],
   "source": [
    "new_data_2.to_csv(r'D:\\base_completa_recuperados2.csv', header=1, index=None, sep=';')"
   ]
  },
  {
   "cell_type": "code",
   "execution_count": null,
   "metadata": {},
   "outputs": [],
   "source": [
    "new_data_2 = base_final1[(base_final1.fecha >= 201306)].pivot_table(values='id', index='fecha', columns='g_ultima',\n",
    "                                                         aggfunc=lambda x: len(x))\n",
    "\n",
    " \n",
    "\n",
    "new_data_2.reset_index(level=0, inplace=True)\n",
    "\n",
    " \n",
    "\n",
    "#new_data.to_csv('recuperados.csv', header=True, index = False)\n",
    "new_data_2"
   ]
  },
  {
   "cell_type": "code",
   "execution_count": 14,
   "metadata": {},
   "outputs": [],
   "source": [
    "#ordenamiento modelo actual\n",
    "default_actual = df_gs.pivot_table(values='id', index='Gs_original', columns = 'default_90_12m',\n",
    "                         aggfunc=lambda x: len(x))"
   ]
  },
  {
   "cell_type": "code",
   "execution_count": 15,
   "metadata": {},
   "outputs": [
    {
     "data": {
      "text/html": [
       "<div>\n",
       "<style scoped>\n",
       "    .dataframe tbody tr th:only-of-type {\n",
       "        vertical-align: middle;\n",
       "    }\n",
       "\n",
       "    .dataframe tbody tr th {\n",
       "        vertical-align: top;\n",
       "    }\n",
       "\n",
       "    .dataframe thead th {\n",
       "        text-align: right;\n",
       "    }\n",
       "</style>\n",
       "<table border=\"1\" class=\"dataframe\">\n",
       "  <thead>\n",
       "    <tr style=\"text-align: right;\">\n",
       "      <th>default_90_12m</th>\n",
       "      <th>0</th>\n",
       "      <th>1</th>\n",
       "    </tr>\n",
       "    <tr>\n",
       "      <th>Gs_original</th>\n",
       "      <th></th>\n",
       "      <th></th>\n",
       "    </tr>\n",
       "  </thead>\n",
       "  <tbody>\n",
       "    <tr>\n",
       "      <th>G1</th>\n",
       "      <td>778405</td>\n",
       "      <td>4734</td>\n",
       "    </tr>\n",
       "    <tr>\n",
       "      <th>G2</th>\n",
       "      <td>726987</td>\n",
       "      <td>10046</td>\n",
       "    </tr>\n",
       "    <tr>\n",
       "      <th>G3</th>\n",
       "      <td>624020</td>\n",
       "      <td>15761</td>\n",
       "    </tr>\n",
       "    <tr>\n",
       "      <th>G4</th>\n",
       "      <td>657884</td>\n",
       "      <td>21997</td>\n",
       "    </tr>\n",
       "    <tr>\n",
       "      <th>G5</th>\n",
       "      <td>921487</td>\n",
       "      <td>47307</td>\n",
       "    </tr>\n",
       "    <tr>\n",
       "      <th>G6</th>\n",
       "      <td>448037</td>\n",
       "      <td>49030</td>\n",
       "    </tr>\n",
       "    <tr>\n",
       "      <th>G7</th>\n",
       "      <td>241932</td>\n",
       "      <td>56644</td>\n",
       "    </tr>\n",
       "    <tr>\n",
       "      <th>G8</th>\n",
       "      <td>194802</td>\n",
       "      <td>246529</td>\n",
       "    </tr>\n",
       "  </tbody>\n",
       "</table>\n",
       "</div>"
      ],
      "text/plain": [
       "default_90_12m       0       1\n",
       "Gs_original                   \n",
       "G1              778405    4734\n",
       "G2              726987   10046\n",
       "G3              624020   15761\n",
       "G4              657884   21997\n",
       "G5              921487   47307\n",
       "G6              448037   49030\n",
       "G7              241932   56644\n",
       "G8              194802  246529"
      ]
     },
     "execution_count": 15,
     "metadata": {},
     "output_type": "execute_result"
    }
   ],
   "source": [
    "default_actual"
   ]
  },
  {
   "cell_type": "code",
   "execution_count": 24,
   "metadata": {},
   "outputs": [],
   "source": [
    "y = df[['default_90_12m']]"
   ]
  },
  {
   "cell_type": "code",
   "execution_count": 25,
   "metadata": {},
   "outputs": [],
   "source": [
    "x = df[['escala_riesgo_cat']]"
   ]
  },
  {
   "cell_type": "code",
   "execution_count": 26,
   "metadata": {},
   "outputs": [
    {
     "name": "stderr",
     "output_type": "stream",
     "text": [
      "C:\\Users\\dsosa\\AppData\\Local\\Continuum\\anaconda31\\lib\\site-packages\\sklearn\\linear_model\\logistic.py:432: FutureWarning: Default solver will be changed to 'lbfgs' in 0.22. Specify a solver to silence this warning.\n",
      "  FutureWarning)\n",
      "C:\\Users\\dsosa\\AppData\\Local\\Continuum\\anaconda31\\lib\\site-packages\\sklearn\\utils\\validation.py:724: DataConversionWarning: A column-vector y was passed when a 1d array was expected. Please change the shape of y to (n_samples, ), for example using ravel().\n",
      "  y = column_or_1d(y, warn=True)\n"
     ]
    }
   ],
   "source": [
    "clf = LogisticRegression(random_state=0).fit(x, y)"
   ]
  },
  {
   "cell_type": "code",
   "execution_count": 27,
   "metadata": {},
   "outputs": [],
   "source": [
    "roc=roc_auc_score(y, clf.predict_proba(x)[:,1])"
   ]
  },
  {
   "cell_type": "code",
   "execution_count": 28,
   "metadata": {},
   "outputs": [
    {
     "data": {
      "text/plain": [
       "0.8419460348600638"
      ]
     },
     "execution_count": 28,
     "metadata": {},
     "output_type": "execute_result"
    }
   ],
   "source": [
    "roc"
   ]
  },
  {
   "cell_type": "code",
   "execution_count": 29,
   "metadata": {},
   "outputs": [
    {
     "name": "stdout",
     "output_type": "stream",
     "text": [
      "Average precision-recall score: 0.41\n"
     ]
    }
   ],
   "source": [
    "from sklearn.metrics import average_precision_score\n",
    "average_precision = average_precision_score(y, x)\n",
    "\n",
    "print('Average precision-recall score: {0:0.2f}'.format(\n",
    "      average_precision))"
   ]
  },
  {
   "cell_type": "code",
   "execution_count": null,
   "metadata": {},
   "outputs": [],
   "source": []
  },
  {
   "cell_type": "code",
   "execution_count": null,
   "metadata": {},
   "outputs": [],
   "source": [
    "#ordenamiento modelo nuevo \n",
    "default_nuevo = base_final1.pivot_table(values='id', index='Gs_nuevo_modelo', columns = 'default_90_12m',\n",
    "                         aggfunc=lambda x: len(x))"
   ]
  },
  {
   "cell_type": "code",
   "execution_count": null,
   "metadata": {},
   "outputs": [],
   "source": [
    "default_nuevo"
   ]
  },
  {
   "cell_type": "code",
   "execution_count": null,
   "metadata": {},
   "outputs": [],
   "source": [
    "#ordenamiento actual fuera de tiempo\n",
    "default_out = base_final1[(base_final1.fecha>=201803) & (base_final1.fecha<=201903)].pivot_table(values='id', index='Gs_original', columns='default_90_12m',\n",
    "                         aggfunc=lambda x: len(x))"
   ]
  },
  {
   "cell_type": "code",
   "execution_count": null,
   "metadata": {},
   "outputs": [],
   "source": [
    "default_out"
   ]
  },
  {
   "cell_type": "code",
   "execution_count": 33,
   "metadata": {},
   "outputs": [],
   "source": [
    "#ordenamiento nuevo fuera de tiempo\n",
    "default_out = base_final1[(base_final1.fecha>=201707) & (base_final1.fecha<=201710)].pivot_table(values='id', index='Gs_nuevo_modelo', columns='default_90_12m',\n",
    "                         aggfunc=lambda x: len(x))"
   ]
  },
  {
   "cell_type": "code",
   "execution_count": 34,
   "metadata": {},
   "outputs": [
    {
     "data": {
      "text/html": [
       "<div>\n",
       "<style scoped>\n",
       "    .dataframe tbody tr th:only-of-type {\n",
       "        vertical-align: middle;\n",
       "    }\n",
       "\n",
       "    .dataframe tbody tr th {\n",
       "        vertical-align: top;\n",
       "    }\n",
       "\n",
       "    .dataframe thead th {\n",
       "        text-align: right;\n",
       "    }\n",
       "</style>\n",
       "<table border=\"1\" class=\"dataframe\">\n",
       "  <thead>\n",
       "    <tr style=\"text-align: right;\">\n",
       "      <th>default_90_12m</th>\n",
       "      <th>0</th>\n",
       "      <th>1</th>\n",
       "    </tr>\n",
       "    <tr>\n",
       "      <th>Gs_nuevo_modelo</th>\n",
       "      <th></th>\n",
       "      <th></th>\n",
       "    </tr>\n",
       "  </thead>\n",
       "  <tbody>\n",
       "    <tr>\n",
       "      <th>G1_n</th>\n",
       "      <td>50</td>\n",
       "      <td>1</td>\n",
       "    </tr>\n",
       "    <tr>\n",
       "      <th>G2_n</th>\n",
       "      <td>5933</td>\n",
       "      <td>1402</td>\n",
       "    </tr>\n",
       "    <tr>\n",
       "      <th>G3_n</th>\n",
       "      <td>5214</td>\n",
       "      <td>2233</td>\n",
       "    </tr>\n",
       "    <tr>\n",
       "      <th>G4_n</th>\n",
       "      <td>3872</td>\n",
       "      <td>2511</td>\n",
       "    </tr>\n",
       "    <tr>\n",
       "      <th>G5_n</th>\n",
       "      <td>3094</td>\n",
       "      <td>2576</td>\n",
       "    </tr>\n",
       "    <tr>\n",
       "      <th>G6_n</th>\n",
       "      <td>776</td>\n",
       "      <td>692</td>\n",
       "    </tr>\n",
       "    <tr>\n",
       "      <th>G7_n</th>\n",
       "      <td>99</td>\n",
       "      <td>75</td>\n",
       "    </tr>\n",
       "  </tbody>\n",
       "</table>\n",
       "</div>"
      ],
      "text/plain": [
       "default_90_12m      0     1\n",
       "Gs_nuevo_modelo            \n",
       "G1_n               50     1\n",
       "G2_n             5933  1402\n",
       "G3_n             5214  2233\n",
       "G4_n             3872  2511\n",
       "G5_n             3094  2576\n",
       "G6_n              776   692\n",
       "G7_n               99    75"
      ]
     },
     "execution_count": 34,
     "metadata": {},
     "output_type": "execute_result"
    }
   ],
   "source": [
    "default_out"
   ]
  },
  {
   "cell_type": "code",
   "execution_count": null,
   "metadata": {},
   "outputs": [],
   "source": [
    "out_sample = base_final1[(base_final1.fecha>=201306) & (base_final1.fecha<=201802)]"
   ]
  },
  {
   "cell_type": "code",
   "execution_count": null,
   "metadata": {},
   "outputs": [],
   "source": [
    "prediction=out_sample['prediction'].astype(str).astype(float)"
   ]
  },
  {
   "cell_type": "code",
   "execution_count": null,
   "metadata": {},
   "outputs": [],
   "source": [
    "default = out_sample['default_90_12m'].astype(int)"
   ]
  },
  {
   "cell_type": "code",
   "execution_count": null,
   "metadata": {},
   "outputs": [],
   "source": [
    "prediction1 = prediction.as_matrix()"
   ]
  },
  {
   "cell_type": "code",
   "execution_count": null,
   "metadata": {},
   "outputs": [],
   "source": [
    "precision, recall, _ = precision_recall_curve(default, prediction1)"
   ]
  },
  {
   "cell_type": "code",
   "execution_count": null,
   "metadata": {},
   "outputs": [],
   "source": [
    "average_precision = average_precision_score(default, prediction1)\n",
    "print('Average precision-recall score RF: {}'.format(average_precision))"
   ]
  },
  {
   "cell_type": "code",
   "execution_count": null,
   "metadata": {},
   "outputs": [],
   "source": [
    "(0.6994281871609821 - 0.6115755933409067)*100"
   ]
  },
  {
   "cell_type": "code",
   "execution_count": null,
   "metadata": {},
   "outputs": [],
   "source": [
    "#auc modelo actual\n",
    "fpr, tpr, _ = metrics.roc_curve(np.array(out_sample['default_90_12m']), out_sample['prediction'])\n",
    "auc_train = metrics.auc(fpr,tpr)"
   ]
  },
  {
   "cell_type": "code",
   "execution_count": null,
   "metadata": {},
   "outputs": [],
   "source": [
    "auc_train"
   ]
  },
  {
   "cell_type": "code",
   "execution_count": 17,
   "metadata": {},
   "outputs": [],
   "source": [
    "#auc modelo actual\n",
    "from sklearn import metrics\n",
    "fpr, tpr, _ = metrics.roc_curve(np.array(df2['default_90_12m']), df2['prediction'])\n",
    "auc_train = metrics.auc(fpr,tpr)"
   ]
  },
  {
   "cell_type": "code",
   "execution_count": 18,
   "metadata": {},
   "outputs": [
    {
     "data": {
      "text/plain": [
       "0.8787536701907463"
      ]
     },
     "execution_count": 18,
     "metadata": {},
     "output_type": "execute_result"
    }
   ],
   "source": [
    "auc_train"
   ]
  },
  {
   "cell_type": "code",
   "execution_count": null,
   "metadata": {},
   "outputs": [],
   "source": [
    "saldos = pd.pivot_table(base_final[base_final.fecha==202003], values='saldok', index=['Gs_original'],\n",
    "                    columns=['Gs_nuevo_modelo'], aggfunc=np.sum)"
   ]
  },
  {
   "cell_type": "code",
   "execution_count": null,
   "metadata": {},
   "outputs": [],
   "source": [
    "saldos"
   ]
  }
 ],
 "metadata": {
  "kernelspec": {
   "display_name": "Python 3",
   "language": "python",
   "name": "python3"
  },
  "language_info": {
   "codemirror_mode": {
    "name": "ipython",
    "version": 3
   },
   "file_extension": ".py",
   "mimetype": "text/x-python",
   "name": "python",
   "nbconvert_exporter": "python",
   "pygments_lexer": "ipython3",
   "version": "3.7.6"
  }
 },
 "nbformat": 4,
 "nbformat_minor": 2
}
